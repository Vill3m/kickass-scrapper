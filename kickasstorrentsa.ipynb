{
 "cells": [
  {
   "cell_type": "code",
   "execution_count": 58,
   "metadata": {
    "collapsed": true
   },
   "outputs": [],
   "source": [
    "import requests\n",
    "from scrapy.http import TextResponse\n",
    "\n",
    "r = requests.get('http://kickasstorrentsa.com/books/')\n",
    "response = TextResponse(r.url, body=r.text, encoding='utf-8')"
   ]
  },
  {
   "cell_type": "code",
   "execution_count": 2,
   "metadata": {
    "collapsed": false
   },
   "outputs": [],
   "source": [
    "l = response.xpath('//*[starts-with(@id,\"torrent_books_torrents\")]/td/div/div/a')"
   ]
  },
  {
   "cell_type": "markdown",
   "metadata": {
    "collapsed": false
   },
   "source": [
    "magnet = response.xpath('//*[starts-with(@id,\"torrent_books_torrents\")]/td/div/div/@data-sc-params').extract()\n",
    "\n",
    "size = response.xpath('//*[starts-with(@class,\"nobr center\")]')\n",
    "\n",
    "dateadded = l.xpath(\"td[4]/@title\").extract()\n",
    "\n",
    "size = l.xpath(\"td[2]/text()\").extract()\n",
    "\n",
    "bytes = l.xpath(\"td[2]/span/text()\").extract()\n",
    "\n",
    "seeds = l.xpath(\"td[5]/text()\").extract()\n",
    "\n",
    "leechs = l.xpath(\"td[6]/text()\").extract()\n",
    "\n",
    "links = response.xpath('//*[starts-with(@id,\"torrent_books_torrents\")]/td/div/div/a/@href').extract()\n",
    "\n",
    "title = response.xpath('//*[starts-with(@id,\"torrent_books_torrents\")]/td/div/div/a/text()').extract()\n",
    "\n",
    "files = l.xpath(\"td[3]/text()\").extract()\n",
    "\n",
    "seeds = l.xpath(\"td[5]/text()\").extract()"
   ]
  },
  {
   "cell_type": "code",
   "execution_count": 7,
   "metadata": {
    "collapsed": false
   },
   "outputs": [],
   "source": [
    "l = response.xpath('//*[starts-with(@id,\"torrent_books_torrents\")]')\n",
    "dateadded = l.xpath(\"td[4]/@title\").extract()\n",
    "size = l.xpath(\"td[2]/text()\").extract()\n",
    "bytes = l.xpath(\"td[2]/span/text()\").extract()\n",
    "seeds = l.xpath(\"td[5]/text()\").extract()\n",
    "leechs = l.xpath(\"td[6]/text()\").extract()\n",
    "links = response.xpath('//*[starts-with(@id,\"torrent_books_torrents\")]/td/div/div/a/@href').extract()\n",
    "title = response.xpath('//*[starts-with(@id,\"torrent_books_torrents\")]/td/div/div/a/text()').extract()\n",
    "files = l.xpath(\"td[3]/text()\").extract()\n",
    "seeds = l.xpath(\"td[5]/text()\").extract()"
   ]
  },
  {
   "cell_type": "code",
   "execution_count": 22,
   "metadata": {
    "collapsed": false
   },
   "outputs": [],
   "source": [
    "username = response.xpath('//*[starts-with(@id,\"torrent_books_torrents\")]/td/div/div/span/a/text()').extract()"
   ]
  },
  {
   "cell_type": "code",
   "execution_count": 61,
   "metadata": {
    "collapsed": false
   },
   "outputs": [],
   "source": [
    "cat = response.xpath('//*[starts-with(@id,\"cat\")]/strong/a/text()').extract()"
   ]
  },
  {
   "cell_type": "code",
   "execution_count": 35,
   "metadata": {
    "collapsed": true
   },
   "outputs": [],
   "source": [
    "magnet = response.xpath('//*[starts-with(@id,\"torrent_books_torrents\")]/td/div/div/@data-sc-params').extract()"
   ]
  },
  {
   "cell_type": "code",
   "execution_count": 62,
   "metadata": {
    "collapsed": false
   },
   "outputs": [
    {
     "data": {
      "text/plain": [
       "[u'Books',\n",
       " u'Textbooks',\n",
       " u'Books',\n",
       " u'Ebooks',\n",
       " u'Books',\n",
       " u'Academic',\n",
       " u'Books',\n",
       " u'Comics',\n",
       " u'Books',\n",
       " u'Non-fiction',\n",
       " u'Books',\n",
       " u'Comics',\n",
       " u'Books',\n",
       " u'Ebooks',\n",
       " u'Books',\n",
       " u'Magazines',\n",
       " u'Books',\n",
       " u'Non-fiction',\n",
       " u'Books',\n",
       " u'Books',\n",
       " u'Programming',\n",
       " u'Books',\n",
       " u'Comics',\n",
       " u'Books',\n",
       " u'Ebooks',\n",
       " u'Books',\n",
       " u'Ebooks',\n",
       " u'Books',\n",
       " u'Magazines',\n",
       " u'Books',\n",
       " u'Sport',\n",
       " u'Books',\n",
       " u'Books',\n",
       " u'Comics',\n",
       " u'Books',\n",
       " u'Ebooks',\n",
       " u'Books',\n",
       " u'Comics',\n",
       " u'Books',\n",
       " u'Comics',\n",
       " u'Books',\n",
       " u'Comics',\n",
       " u'Books',\n",
       " u'Comics',\n",
       " u'Books',\n",
       " u'Magazines',\n",
       " u'Books',\n",
       " u'Textbooks']"
      ]
     },
     "execution_count": 62,
     "metadata": {},
     "output_type": "execute_result"
    }
   ],
   "source": [
    "cat"
   ]
  },
  {
   "cell_type": "code",
   "execution_count": 51,
   "metadata": {
    "collapsed": true
   },
   "outputs": [],
   "source": [
    "from kickasstorrents.items import KickasstorrentsItem"
   ]
  },
  {
   "cell_type": "code",
   "execution_count": 52,
   "metadata": {
    "collapsed": true
   },
   "outputs": [],
   "source": [
    "item = KickasstorrentsItem()"
   ]
  },
  {
   "cell_type": "code",
   "execution_count": 53,
   "metadata": {
    "collapsed": false
   },
   "outputs": [
    {
     "data": {
      "text/plain": [
       "<bound method KickasstorrentsItem.keys of {}>"
      ]
     },
     "execution_count": 53,
     "metadata": {},
     "output_type": "execute_result"
    }
   ],
   "source": [
    "item.keys"
   ]
  },
  {
   "cell_type": "code",
   "execution_count": null,
   "metadata": {
    "collapsed": true
   },
   "outputs": [],
   "source": [
    "//*[@id=\"torrent_movies_torrents12941875\"]/td[1]/div[1]/a[4]"
   ]
  },
  {
   "cell_type": "code",
   "execution_count": 57,
   "metadata": {
    "collapsed": false
   },
   "outputs": [
    {
     "data": {
      "text/plain": [
       "[u'/torrents.php?key=the.complete.chess.course.from.beginning.to.winning.chess.21st.century.edition.2016.epub.gooner',\n",
       " u'/torrents.php?key=brain.training.how.to.learn.and.remember.everything',\n",
       " u'/torrents.php?key=how.it.works.collection.6.books.amazing.chemistry.physics.biology.electricity.geography.and.science.2015.pdf.gooner',\n",
       " u'/torrents.php?key=marvel.week.07.13.2016.nem',\n",
       " u'/torrents.php?key=the.art.of.people.11.simple.people.skills.that.will.get.you.everything.you.want.2016.epub.gooner',\n",
       " u'/torrents.php?key=dc.week.07.13.2016.aka.dc.week.254.nem',\n",
       " u'/torrents.php?key=the.art.of.creative.thinking.89.ways.to.see.things.differently',\n",
       " u'/torrents.php?key=assorted.magazines.bundle.july.20.2016.true.pdf',\n",
       " u'/torrents.php?key=how.to.analyze.people.48.simple.ways.to.learn.how.to.read.people.instantly.and.easily.understand.why.they.do.certain.things.epub.mobi',\n",
       " u'/torrents.php?key=je.me.perfectionne.avec.windows.10.joel.green.pdf',\n",
       " u'/torrents.php?key=101.ready.to.use.excel.formulas.michael.alexander.dick.kusleika.mantesh',\n",
       " u'/torrents.php?key=injustice.gods.among.us.year.five.031.2016.digital.son.of.ultron.empire.cbr.nem',\n",
       " u'/torrents.php?key=7.computer.skills.you.must.have.to.survive.prosper.in.todays.world.pdf.mobi.epub.azw3.zeke23',\n",
       " u'/torrents.php?key=why.didn.t.they.teach.me.this.in.school.99.personal.money.management.principles.to.live.by',\n",
       " u'/torrents.php?key=assorted.magazines.bundle.july.15.2016.true.pdf',\n",
       " u'/torrents.php?key=12.basic.exercises.for.the.energy.generation.method.of.bruce.lee.2013.pdf.epub.gooner',\n",
       " u'/torrents.php?key=how.to.diagnose.and.fix.everything.electronic.second.edition.2016.by.michael.geier.epub.dr.soc',\n",
       " u'/torrents.php?key=marvel.week.07.06.2016.nem',\n",
       " u'/torrents.php?key=goodreads.best.books.of.the.month.may.2016',\n",
       " u'/torrents.php?key=civil.war.ii.003.2016.4.covers.digital.zone.empire.cbr.nem',\n",
       " u'/torrents.php?key=the.walking.dead.156.2016.digital.zone.empire.cbr.nem',\n",
       " u'/torrents.php?key=superman.003.2016.webrip.the.last.kryptonian.dcp.cbr.nem',\n",
       " u'/torrents.php?key=dc.week.07.06.2016.aka.dc.week.253.nem',\n",
       " u'/torrents.php?key=assorted.magazines.bundle.july.8.2016.true.pdf',\n",
       " u'/torrents.php?key=complete.krav.maga.the.ultimate.guide.to.over.250.self.defense.and.combative.techniques.2nd.revised.expanded.edition.2016.epub.gooner']"
      ]
     },
     "execution_count": 57,
     "metadata": {},
     "output_type": "execute_result"
    }
   ],
   "source": [
    "torrents = response.xpath('//*[starts-with(@id,\"torrent_books_torrents\")]/td/div/a[4]/@href').extract()"
   ]
  },
  {
   "cell_type": "code",
   "execution_count": null,
   "metadata": {
    "collapsed": true
   },
   "outputs": [],
   "source": []
  }
 ],
 "metadata": {
  "kernelspec": {
   "display_name": "Python 2",
   "language": "python",
   "name": "python2"
  },
  "language_info": {
   "codemirror_mode": {
    "name": "ipython",
    "version": 2
   },
   "file_extension": ".py",
   "mimetype": "text/x-python",
   "name": "python",
   "nbconvert_exporter": "python",
   "pygments_lexer": "ipython2",
   "version": "2.7.9"
  }
 },
 "nbformat": 4,
 "nbformat_minor": 0
}
