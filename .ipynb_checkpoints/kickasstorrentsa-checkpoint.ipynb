{
 "cells": [
  {
   "cell_type": "code",
   "execution_count": 1,
   "metadata": {
    "collapsed": true
   },
   "outputs": [],
   "source": [
    "import requests\n",
    "from scrapy.http import TextResponse\n",
    "\n",
    "r = requests.get('http://kickasstorrentsa.com/books/')\n",
    "response = TextResponse(r.url, body=r.text, encoding='utf-8')"
   ]
  },
  {
   "cell_type": "code",
   "execution_count": 2,
   "metadata": {
    "collapsed": false
   },
   "outputs": [],
   "source": [
    "l = response.xpath('//*[starts-with(@id,\"torrent_books_torrents\")]/td/div/div/a')"
   ]
  },
  {
   "cell_type": "markdown",
   "metadata": {
    "collapsed": false
   },
   "source": [
    "magnet = response.xpath('//*[starts-with(@id,\"torrent_books_torrents\")]/td/div/div/@data-sc-params').extract()\n",
    "\n",
    "size = response.xpath('//*[starts-with(@class,\"nobr center\")]')\n",
    "\n",
    "dateadded = l.xpath(\"td[4]/@title\").extract()\n",
    "\n",
    "size = l.xpath(\"td[2]/text()\").extract()\n",
    "\n",
    "bytes = l.xpath(\"td[2]/span/text()\").extract()\n",
    "\n",
    "seeds = l.xpath(\"td[5]/text()\").extract()\n",
    "\n",
    "leechs = l.xpath(\"td[6]/text()\").extract()\n",
    "\n",
    "links = response.xpath('//*[starts-with(@id,\"torrent_books_torrents\")]/td/div/div/a/@href').extract()\n",
    "\n",
    "title = response.xpath('//*[starts-with(@id,\"torrent_books_torrents\")]/td/div/div/a/text()').extract()\n",
    "\n",
    "files = l.xpath(\"td[3]/text()\").extract()\n",
    "\n",
    "seeds = l.xpath(\"td[5]/text()\").extract()"
   ]
  },
  {
   "cell_type": "code",
   "execution_count": 4,
   "metadata": {
    "collapsed": false
   },
   "outputs": [],
   "source": [
    "links = response.xpath('//*[starts-with(@id,\"torrent_books_torrents\")]/td/div/div/a/@href')"
   ]
  },
  {
   "cell_type": "code",
   "execution_count": 137,
   "metadata": {
    "collapsed": false
   },
   "outputs": [
    {
     "data": {
      "text/plain": [
       "[u'596',\n",
       " u'600',\n",
       " u'543',\n",
       " u'457',\n",
       " u'500',\n",
       " u'424',\n",
       " u'489',\n",
       " u'335',\n",
       " u'444',\n",
       " u'443',\n",
       " u'403',\n",
       " u'382',\n",
       " u'364',\n",
       " u'366',\n",
       " u'284',\n",
       " u'321',\n",
       " u'316',\n",
       " u'271',\n",
       " u'300',\n",
       " u'304',\n",
       " u'304',\n",
       " u'268',\n",
       " u'251',\n",
       " u'233',\n",
       " u'273']"
      ]
     },
     "execution_count": 137,
     "metadata": {},
     "output_type": "execute_result"
    }
   ],
   "source": [
    "seeds"
   ]
  },
  {
   "cell_type": "code",
   "execution_count": null,
   "metadata": {
    "collapsed": true
   },
   "outputs": [],
   "source": []
  }
 ],
 "metadata": {
  "kernelspec": {
   "display_name": "Python 2",
   "language": "python",
   "name": "python2"
  },
  "language_info": {
   "codemirror_mode": {
    "name": "ipython",
    "version": 2
   },
   "file_extension": ".py",
   "mimetype": "text/x-python",
   "name": "python",
   "nbconvert_exporter": "python",
   "pygments_lexer": "ipython2",
   "version": "2.7.9"
  }
 },
 "nbformat": 4,
 "nbformat_minor": 0
}
